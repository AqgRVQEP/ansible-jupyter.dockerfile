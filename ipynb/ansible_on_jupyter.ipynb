{
 "cells": [
  {
   "cell_type": "markdown",
   "metadata": {
    "collapsed": true
   },
   "source": [
    "# Run the Ansible on Jupyter Notebook\n",
    "\n",
    "- Author: Chu-Siang Lai / chusiang (at) drx.tw\n",
    "- GitHub: [chusiang/ansible-jupyter.dockerfile](https://github.com/chusiang/ansible-jupyter.dockerfile)\n",
    "- Docker Hub: [chusiang/ansible-jupyter](https://hub.docker.com/r/chusiang/ansible-jupyter/)\n"
   ]
  },
  {
   "cell_type": "markdown",
   "metadata": {},
   "source": [
    "Modified."
   ]
  },
  {
   "cell_type": "code",
   "execution_count": 9,
   "metadata": {
    "collapsed": false
   },
   "outputs": [
    {
     "name": "stdout",
     "output_type": "stream",
     "text": [
      "Tue Nov 22 06:49:18 UTC 2016\r\n"
     ]
    }
   ],
   "source": [
    "!date"
   ]
  },
  {
   "cell_type": "markdown",
   "metadata": {},
   "source": [
    "## Operating System\n",
    "\n",
    "Check the runtime user."
   ]
  },
  {
   "cell_type": "code",
   "execution_count": 2,
   "metadata": {
    "collapsed": false
   },
   "outputs": [
    {
     "name": "stdout",
     "output_type": "stream",
     "text": [
      "root\r\n"
     ]
    }
   ],
   "source": [
    "!whoami"
   ]
  },
  {
   "cell_type": "markdown",
   "metadata": {},
   "source": [
    "Show Linux distribution."
   ]
  },
  {
   "cell_type": "code",
   "execution_count": 3,
   "metadata": {
    "collapsed": false
   },
   "outputs": [
    {
     "name": "stdout",
     "output_type": "stream",
     "text": [
      "Welcome to Alpine Linux 3.4\r\n",
      "Kernel \\r on an \\m (\\l)\r\n",
      "\r\n"
     ]
    }
   ],
   "source": [
    "!cat /etc/issue"
   ]
  },
  {
   "cell_type": "markdown",
   "metadata": {},
   "source": [
    "Show Python version."
   ]
  },
  {
   "cell_type": "code",
   "execution_count": 5,
   "metadata": {
    "collapsed": false
   },
   "outputs": [
    {
     "name": "stdout",
     "output_type": "stream",
     "text": [
      "Python 2.7.12\r\n"
     ]
    }
   ],
   "source": [
    "!python --version"
   ]
  },
  {
   "cell_type": "markdown",
   "metadata": {},
   "source": [
    "Show pip version."
   ]
  },
  {
   "cell_type": "code",
   "execution_count": 7,
   "metadata": {
    "collapsed": false
   },
   "outputs": [
    {
     "name": "stdout",
     "output_type": "stream",
     "text": [
      "pip 9.0.1 from /usr/lib/python2.7/site-packages (python 2.7)\r\n"
     ]
    }
   ],
   "source": [
    "!pip --version"
   ]
  },
  {
   "cell_type": "markdown",
   "metadata": {},
   "source": [
    "Show Ansible version."
   ]
  },
  {
   "cell_type": "code",
   "execution_count": 6,
   "metadata": {
    "collapsed": false
   },
   "outputs": [
    {
     "name": "stdout",
     "output_type": "stream",
     "text": [
      "ansible 2.2.0.0\r\n",
      "  config file = \r\n",
      "  configured module search path = Default w/o overrides\r\n"
     ]
    }
   ],
   "source": [
    "!ansible --version"
   ]
  },
  {
   "cell_type": "markdown",
   "metadata": {},
   "source": [
    "Show Jupyter version."
   ]
  },
  {
   "cell_type": "code",
   "execution_count": 8,
   "metadata": {
    "collapsed": false
   },
   "outputs": [
    {
     "name": "stdout",
     "output_type": "stream",
     "text": [
      "4.2.0\r\n"
     ]
    }
   ],
   "source": [
    "!jupyter --version"
   ]
  },
  {
   "cell_type": "markdown",
   "metadata": {},
   "source": [
    "## Ansible\n",
    "\n",
    "### Ad-Hoc command"
   ]
  },
  {
   "cell_type": "markdown",
   "metadata": {},
   "source": [
    "Show the Ansible version."
   ]
  },
  {
   "cell_type": "code",
   "execution_count": 3,
   "metadata": {
    "collapsed": false
   },
   "outputs": [
    {
     "name": "stdout",
     "output_type": "stream",
     "text": [
      "ansible 2.2.0.0\r\n",
      "  config file = \r\n",
      "  configured module search path = Default w/o overrides\r\n"
     ]
    }
   ],
   "source": [
    "!ansible --version"
   ]
  },
  {
   "cell_type": "markdown",
   "metadata": {},
   "source": [
    "ping the localhost."
   ]
  },
  {
   "cell_type": "code",
   "execution_count": 1,
   "metadata": {
    "collapsed": false
   },
   "outputs": [
    {
     "name": "stdout",
     "output_type": "stream",
     "text": [
      "\u001b[0;32mlocalhost | SUCCESS => {\r\n",
      "    \"changed\": false, \r\n",
      "    \"ping\": \"pong\"\r\n",
      "}\u001b[0m\r\n"
     ]
    }
   ],
   "source": [
    "!ansible localhost -m ping"
   ]
  },
  {
   "cell_type": "markdown",
   "metadata": {},
   "source": [
    "Get the facts with `setup` module."
   ]
  },
  {
   "cell_type": "code",
   "execution_count": 2,
   "metadata": {
    "collapsed": false,
    "scrolled": false
   },
   "outputs": [
    {
     "name": "stdout",
     "output_type": "stream",
     "text": [
      "\u001b[0;32mlocalhost | SUCCESS => {\r\n",
      "    \"ansible_facts\": {\r\n",
      "        \"ansible_all_ipv4_addresses\": [], \r\n",
      "        \"ansible_all_ipv6_addresses\": [], \r\n",
      "        \"ansible_architecture\": \"x86_64\", \r\n",
      "        \"ansible_bios_date\": \"03/14/2014\", \r\n",
      "        \"ansible_bios_version\": \"1.00\", \r\n",
      "        \"ansible_cmdline\": {\r\n",
      "            \"com.docker.database\": \"com.docker.driver.amd64-linux\", \r\n",
      "            \"com.docker.driver\": \"com.docker.driver.amd64-linux,\", \r\n",
      "            \"console\": \"ttyS0\", \r\n",
      "            \"earlyprintk\": \"serial\", \r\n",
      "            \"mobyplatform\": \"mac\", \r\n",
      "            \"ntp\": \"gateway\"\r\n",
      "        }, \r\n",
      "        \"ansible_date_time\": {\r\n",
      "            \"date\": \"2016-11-21\", \r\n",
      "            \"day\": \"21\", \r\n",
      "            \"epoch\": \"1479727674\", \r\n",
      "            \"hour\": \"11\", \r\n",
      "            \"iso8601\": \"2016-11-21T11:27:54Z\", \r\n",
      "            \"iso8601_basic\": \"20161121T112754142585\", \r\n",
      "            \"iso8601_basic_short\": \"20161121T112754\", \r\n",
      "            \"iso8601_micro\": \"2016-11-21T11:27:54.142660Z\", \r\n",
      "            \"minute\": \"27\", \r\n",
      "            \"month\": \"11\", \r\n",
      "            \"second\": \"54\", \r\n",
      "            \"time\": \"11:27:54\", \r\n",
      "            \"tz\": \"UTC\", \r\n",
      "            \"tz_offset\": \"+0000\", \r\n",
      "            \"weekday\": \"Monday\", \r\n",
      "            \"weekday_number\": \"1\", \r\n",
      "            \"weeknumber\": \"47\", \r\n",
      "            \"year\": \"2016\"\r\n",
      "        }, \r\n",
      "        \"ansible_default_ipv4\": {\r\n",
      "            \"address\": \"172.17.0.2\", \r\n",
      "            \"gateway\": \"172.17.0.1\", \r\n",
      "            \"interface\": \"eth0\"\r\n",
      "        }, \r\n",
      "        \"ansible_default_ipv6\": {}, \r\n",
      "        \"ansible_devices\": {\r\n",
      "            \"vda\": {\r\n",
      "                \"holders\": [], \r\n",
      "                \"host\": \"\", \r\n",
      "                \"model\": null, \r\n",
      "                \"partitions\": {\r\n",
      "                    \"vda1\": {\r\n",
      "                        \"holders\": [], \r\n",
      "                        \"sectors\": \"8194048\", \r\n",
      "                        \"sectorsize\": 512, \r\n",
      "                        \"size\": \"3.91 GB\", \r\n",
      "                        \"start\": \"2048\", \r\n",
      "                        \"uuid\": null\r\n",
      "                    }, \r\n",
      "                    \"vda2\": {\r\n",
      "                        \"holders\": [], \r\n",
      "                        \"sectors\": \"126021632\", \r\n",
      "                        \"sectorsize\": 512, \r\n",
      "                        \"size\": \"60.09 GB\", \r\n",
      "                        \"start\": \"8196096\", \r\n",
      "                        \"uuid\": null\r\n",
      "                    }\r\n",
      "                }, \r\n",
      "                \"removable\": \"0\", \r\n",
      "                \"rotational\": \"1\", \r\n",
      "                \"sas_address\": null, \r\n",
      "                \"sas_device_handle\": null, \r\n",
      "                \"scheduler_mode\": \"\", \r\n",
      "                \"sectors\": \"134217728\", \r\n",
      "                \"sectorsize\": \"512\", \r\n",
      "                \"size\": \"64.00 GB\", \r\n",
      "                \"support_discard\": \"0\", \r\n",
      "                \"vendor\": \"0x1af4\"\r\n",
      "            }\r\n",
      "        }, \r\n",
      "        \"ansible_distribution\": \"Alpine\", \r\n",
      "        \"ansible_distribution_major_version\": \"NA\", \r\n",
      "        \"ansible_distribution_release\": \"NA\", \r\n",
      "        \"ansible_distribution_version\": \"3.4.4\", \r\n",
      "        \"ansible_dns\": {\r\n",
      "            \"domain\": \"local\", \r\n",
      "            \"nameservers\": [\r\n",
      "                \"192.168.65.1\", \r\n",
      "                \"192.168.65.10\", \r\n",
      "                \"192.168.65.9\", \r\n",
      "                \"192.168.65.8\", \r\n",
      "                \"192.168.65.7\", \r\n",
      "                \"192.168.65.6\", \r\n",
      "                \"192.168.65.5\", \r\n",
      "                \"192.168.65.4\", \r\n",
      "                \"192.168.65.3\"\r\n",
      "            ]\r\n",
      "        }, \r\n",
      "        \"ansible_domain\": \"\", \r\n",
      "        \"ansible_env\": {\r\n",
      "            \"CLICOLOR\": \"1\", \r\n",
      "            \"GIT_PAGER\": \"cat\", \r\n",
      "            \"HOME\": \"/root\", \r\n",
      "            \"HOSTNAME\": \"1b7a2a9a3aca\", \r\n",
      "            \"JPY_PARENT_PID\": \"5\", \r\n",
      "            \"MPLBACKEND\": \"module://ipykernel.pylab.backend_inline\", \r\n",
      "            \"PAGER\": \"cat\", \r\n",
      "            \"PATH\": \"/usr/local/sbin:/usr/local/bin:/usr/sbin:/usr/bin:/sbin:/bin\", \r\n",
      "            \"PWD\": \"/home\", \r\n",
      "            \"PYTHONPATH\": \"/tmp/ansible_EWcHw0/ansible_modlib.zip\", \r\n",
      "            \"SHLVL\": \"4\", \r\n",
      "            \"TERM\": \"xterm-color\", \r\n",
      "            \"no_proxy\": \"*.local, 169.254/16\"\r\n",
      "        }, \r\n",
      "        \"ansible_eth0\": {\r\n",
      "            \"active\": true, \r\n",
      "            \"device\": \"eth0\", \r\n",
      "            \"features\": {}, \r\n",
      "            \"macaddress\": \"02:42:ac:11:00:02\", \r\n",
      "            \"mtu\": 1500, \r\n",
      "            \"promisc\": false, \r\n",
      "            \"speed\": 10000, \r\n",
      "            \"type\": \"ether\"\r\n",
      "        }, \r\n",
      "        \"ansible_fips\": false, \r\n",
      "        \"ansible_form_factor\": \"Unknown\", \r\n",
      "        \"ansible_fqdn\": \"1b7a2a9a3aca\", \r\n",
      "        \"ansible_gather_subset\": [\r\n",
      "            \"hardware\", \r\n",
      "            \"network\", \r\n",
      "            \"virtual\"\r\n",
      "        ], \r\n",
      "        \"ansible_gre0\": {\r\n",
      "            \"active\": false, \r\n",
      "            \"device\": \"gre0\", \r\n",
      "            \"features\": {}, \r\n",
      "            \"macaddress\": \"00:00:00:00\", \r\n",
      "            \"mtu\": 1476, \r\n",
      "            \"promisc\": false\r\n",
      "        }, \r\n",
      "        \"ansible_gretap0\": {\r\n",
      "            \"active\": false, \r\n",
      "            \"device\": \"gretap0\", \r\n",
      "            \"features\": {}, \r\n",
      "            \"mtu\": 1462, \r\n",
      "            \"promisc\": false, \r\n",
      "            \"type\": \"ether\"\r\n",
      "        }, \r\n",
      "        \"ansible_hostname\": \"1b7a2a9a3aca\", \r\n",
      "        \"ansible_interfaces\": [\r\n",
      "            \"gre0\", \r\n",
      "            \"ip6tnl0\", \r\n",
      "            \"lo\", \r\n",
      "            \"tunl0\", \r\n",
      "            \"ip6_vti0\", \r\n",
      "            \"gretap0\", \r\n",
      "            \"sit0\", \r\n",
      "            \"ip6gre0\", \r\n",
      "            \"ip_vti0\", \r\n",
      "            \"eth0\"\r\n",
      "        ], \r\n",
      "        \"ansible_ip6_vti0\": {\r\n",
      "            \"active\": false, \r\n",
      "            \"device\": \"ip6_vti0\", \r\n",
      "            \"features\": {}, \r\n",
      "            \"macaddress\": \"00:00:00:00:00:00:00:00:00:00:00:00:00:00:00:00\", \r\n",
      "            \"mtu\": 1500, \r\n",
      "            \"promisc\": false\r\n",
      "        }, \r\n",
      "        \"ansible_ip6gre0\": {\r\n",
      "            \"active\": false, \r\n",
      "            \"device\": \"ip6gre0\", \r\n",
      "            \"features\": {}, \r\n",
      "            \"macaddress\": \"00:00:00:00:00:00:00:00:00:00:00:00:00:00:00:00\", \r\n",
      "            \"mtu\": 1448, \r\n",
      "            \"promisc\": false\r\n",
      "        }, \r\n",
      "        \"ansible_ip6tnl0\": {\r\n",
      "            \"active\": false, \r\n",
      "            \"device\": \"ip6tnl0\", \r\n",
      "            \"features\": {}, \r\n",
      "            \"macaddress\": \"00:00:00:00:00:00:00:00:00:00:00:00:00:00:00:00\", \r\n",
      "            \"mtu\": 1452, \r\n",
      "            \"promisc\": false\r\n",
      "        }, \r\n",
      "        \"ansible_ip_vti0\": {\r\n",
      "            \"active\": false, \r\n",
      "            \"device\": \"ip_vti0\", \r\n",
      "            \"features\": {}, \r\n",
      "            \"macaddress\": \"00:00:00:00\", \r\n",
      "            \"mtu\": 1428, \r\n",
      "            \"promisc\": false\r\n",
      "        }, \r\n",
      "        \"ansible_kernel\": \"4.4.27-moby\", \r\n",
      "        \"ansible_lo\": {\r\n",
      "            \"active\": true, \r\n",
      "            \"device\": \"lo\", \r\n",
      "            \"features\": {}, \r\n",
      "            \"mtu\": 65536, \r\n",
      "            \"promisc\": false, \r\n",
      "            \"type\": \"loopback\"\r\n",
      "        }, \r\n",
      "        \"ansible_machine\": \"x86_64\", \r\n",
      "        \"ansible_memfree_mb\": 119, \r\n",
      "        \"ansible_memory_mb\": {\r\n",
      "            \"nocache\": {\r\n",
      "                \"free\": 1471, \r\n",
      "                \"used\": 526\r\n",
      "            }, \r\n",
      "            \"real\": {\r\n",
      "                \"free\": 119, \r\n",
      "                \"total\": 1997, \r\n",
      "                \"used\": 1878\r\n",
      "            }, \r\n",
      "            \"swap\": {\r\n",
      "                \"cached\": 1, \r\n",
      "                \"free\": 3900, \r\n",
      "                \"total\": 4000, \r\n",
      "                \"used\": 100\r\n",
      "            }\r\n",
      "        }, \r\n",
      "        \"ansible_memtotal_mb\": 1997, \r\n",
      "        \"ansible_mounts\": [\r\n",
      "            {\r\n",
      "                \"device\": \"/dev/vda2\", \r\n",
      "                \"fstype\": \"ext4\", \r\n",
      "                \"mount\": \"/etc/resolv.conf\", \r\n",
      "                \"options\": \"rw,relatime,data=ordered\", \r\n",
      "                \"size_available\": 44802592768, \r\n",
      "                \"size_total\": 63375708160, \r\n",
      "                \"uuid\": \"N/A\"\r\n",
      "            }, \r\n",
      "            {\r\n",
      "                \"device\": \"/dev/vda2\", \r\n",
      "                \"fstype\": \"ext4\", \r\n",
      "                \"mount\": \"/etc/hostname\", \r\n",
      "                \"options\": \"rw,relatime,data=ordered\", \r\n",
      "                \"size_available\": 44802592768, \r\n",
      "                \"size_total\": 63375708160, \r\n",
      "                \"uuid\": \"N/A\"\r\n",
      "            }, \r\n",
      "            {\r\n",
      "                \"device\": \"/dev/vda2\", \r\n",
      "                \"fstype\": \"ext4\", \r\n",
      "                \"mount\": \"/etc/hosts\", \r\n",
      "                \"options\": \"rw,relatime,data=ordered\", \r\n",
      "                \"size_available\": 44802592768, \r\n",
      "                \"size_total\": 63375708160, \r\n",
      "                \"uuid\": \"N/A\"\r\n",
      "            }\r\n",
      "        ], \r\n",
      "        \"ansible_nodename\": \"1b7a2a9a3aca\", \r\n",
      "        \"ansible_os_family\": \"Alpine\", \r\n",
      "        \"ansible_pkg_mgr\": \"apk\", \r\n",
      "        \"ansible_processor\": [\r\n",
      "            \"GenuineIntel\", \r\n",
      "            \"Intel(R) Core(TM) i5-4258U CPU @ 2.40GHz\", \r\n",
      "            \"GenuineIntel\", \r\n",
      "            \"Intel(R) Core(TM) i5-4258U CPU @ 2.40GHz\"\r\n",
      "        ], \r\n",
      "        \"ansible_processor_cores\": 1, \r\n",
      "        \"ansible_processor_count\": 2, \r\n",
      "        \"ansible_processor_threads_per_core\": 1, \r\n",
      "        \"ansible_processor_vcpus\": 2, \r\n",
      "        \"ansible_product_name\": \"BHYVE\", \r\n",
      "        \"ansible_product_serial\": \"None\", \r\n",
      "        \"ansible_product_uuid\": \"5F1677D1-ED92-8C34-954E-1B3835D74968\", \r\n",
      "        \"ansible_product_version\": \"1.0\", \r\n",
      "        \"ansible_python\": {\r\n",
      "            \"executable\": \"/usr/bin/python\", \r\n",
      "            \"has_sslcontext\": true, \r\n",
      "            \"type\": \"CPython\", \r\n",
      "            \"version\": {\r\n",
      "                \"major\": 2, \r\n",
      "                \"micro\": 12, \r\n",
      "                \"minor\": 7, \r\n",
      "                \"releaselevel\": \"final\", \r\n",
      "                \"serial\": 0\r\n",
      "            }, \r\n",
      "            \"version_info\": [\r\n",
      "                2, \r\n",
      "                7, \r\n",
      "                12, \r\n",
      "                \"final\", \r\n",
      "                0\r\n",
      "            ]\r\n",
      "        }, \r\n",
      "        \"ansible_python_version\": \"2.7.12\", \r\n",
      "        \"ansible_selinux\": false, \r\n",
      "        \"ansible_service_mgr\": \"docker-entrypoi\", \r\n",
      "        \"ansible_sit0\": {\r\n",
      "            \"active\": false, \r\n",
      "            \"device\": \"sit0\", \r\n",
      "            \"features\": {}, \r\n",
      "            \"macaddress\": \"00:00:00:00\", \r\n",
      "            \"mtu\": 1480, \r\n",
      "            \"promisc\": false\r\n",
      "        }, \r\n",
      "        \"ansible_swapfree_mb\": 3900, \r\n",
      "        \"ansible_swaptotal_mb\": 4000, \r\n",
      "        \"ansible_system\": \"Linux\", \r\n",
      "        \"ansible_system_vendor\": \"NA\", \r\n",
      "        \"ansible_tunl0\": {\r\n",
      "            \"active\": false, \r\n",
      "            \"device\": \"tunl0\", \r\n",
      "            \"features\": {}, \r\n",
      "            \"macaddress\": \"00:00:00:00\", \r\n",
      "            \"mtu\": 1480, \r\n",
      "            \"promisc\": false\r\n",
      "        }, \r\n",
      "        \"ansible_uptime_seconds\": 301198, \r\n",
      "        \"ansible_user_dir\": \"/root\", \r\n",
      "        \"ansible_user_gecos\": \"root\", \r\n",
      "        \"ansible_user_gid\": 0, \r\n",
      "        \"ansible_user_id\": \"root\", \r\n",
      "        \"ansible_user_shell\": \"/bin/ash\", \r\n",
      "        \"ansible_user_uid\": 0, \r\n",
      "        \"ansible_userspace_architecture\": \"x86_64\", \r\n",
      "        \"ansible_userspace_bits\": \"64\", \r\n",
      "        \"ansible_virtualization_role\": \"guest\", \r\n",
      "        \"ansible_virtualization_type\": \"docker\", \r\n",
      "        \"module_setup\": true\r\n",
      "    }, \r\n",
      "    \"changed\": false\r\n",
      "}\u001b[0m\r\n"
     ]
    }
   ],
   "source": [
    "!ansible localhost -m setup"
   ]
  },
  {
   "cell_type": "markdown",
   "metadata": {},
   "source": [
    "Remove apk package of vim."
   ]
  },
  {
   "cell_type": "code",
   "execution_count": 3,
   "metadata": {
    "collapsed": false
   },
   "outputs": [
    {
     "name": "stdout",
     "output_type": "stream",
     "text": [
      "\u001b[0;33mlocalhost | SUCCESS => {\r\n",
      "    \"changed\": true, \r\n",
      "    \"msg\": \"removed vim package(s)\"\r\n",
      "}\u001b[0m\r\n"
     ]
    }
   ],
   "source": [
    "!ansible localhost -m apk -a 'name=vim state=absent'"
   ]
  },
  {
   "cell_type": "markdown",
   "metadata": {},
   "source": [
    "Install apk package of vim."
   ]
  },
  {
   "cell_type": "code",
   "execution_count": 4,
   "metadata": {
    "collapsed": false,
    "scrolled": true
   },
   "outputs": [
    {
     "name": "stdout",
     "output_type": "stream",
     "text": [
      "\u001b[0;33mlocalhost | SUCCESS => {\r\n",
      "    \"changed\": true, \r\n",
      "    \"msg\": \"installed vim package(s)\"\r\n",
      "}\u001b[0m\r\n"
     ]
    }
   ],
   "source": [
    "!ansible localhost -m apk -a 'name=vim state=present'"
   ]
  },
  {
   "cell_type": "markdown",
   "metadata": {},
   "source": [
    "Install apk package of tree."
   ]
  },
  {
   "cell_type": "code",
   "execution_count": 5,
   "metadata": {
    "collapsed": false,
    "scrolled": true
   },
   "outputs": [
    {
     "name": "stdout",
     "output_type": "stream",
     "text": [
      "\u001b[0;33mlocalhost | SUCCESS => {\r\n",
      "    \"changed\": true, \r\n",
      "    \"msg\": \"installed tree package(s)\"\r\n",
      "}\u001b[0m\r\n"
     ]
    }
   ],
   "source": [
    "!ansible localhost -m apk -a 'name=tree state=present'"
   ]
  },
  {
   "cell_type": "code",
   "execution_count": 6,
   "metadata": {
    "collapsed": false
   },
   "outputs": [
    {
     "name": "stdout",
     "output_type": "stream",
     "text": [
      ".\r\n",
      "├── ansible_on_jupyter.ipynb\r\n",
      "└── setup_jupyter.yml\r\n",
      "\r\n",
      "0 directories, 2 files\r\n"
     ]
    }
   ],
   "source": [
    "!tree ."
   ]
  },
  {
   "cell_type": "markdown",
   "metadata": {},
   "source": [
    "## Playbook\n",
    "\n",
    "Show `setup_jupyter.yml` playbook."
   ]
  },
  {
   "cell_type": "code",
   "execution_count": 10,
   "metadata": {
    "collapsed": false
   },
   "outputs": [
    {
     "name": "stdout",
     "output_type": "stream",
     "text": [
      "#!/usr/bin/env ansible-playbook\r\n",
      "---\r\n",
      "\r\n",
      "- hosts: localhost\r\n",
      "\r\n",
      "  vars:\r\n",
      "    some_packages:\r\n",
      "      - bash\r\n",
      "      - bash-completion\r\n",
      "      - ca-certificates\r\n",
      "      - curl\r\n",
      "      - git\r\n",
      "      - openssl\r\n",
      "\r\n",
      "    apk_packages: \r\n",
      "      - openssh-client\r\n",
      "      - vim\r\n",
      "\r\n",
      "    apt_packages: \"{{ apk_packages }}\"\r\n",
      "\r\n",
      "    yum_packages:\r\n",
      "      - openssh-clients\r\n",
      "      - vim-minimal\r\n",
      "    \r\n",
      "    pip_packages:\r\n",
      "      - docker-py\r\n",
      "      - docker-compose\r\n",
      "    \r\n",
      "  tasks:\r\n",
      "    - name: install some packages\r\n",
      "      package: name={{ item }} state=latest\r\n",
      "      with_nested: \"{{ some_packages }}\"\r\n",
      "      when:\r\n",
      "        - some_packages is defined\r\n",
      "\r\n",
      "    - name: install apk packages\r\n",
      "      apk: name={{ item }} state=latest\r\n",
      "      with_nested: \"{{ apk_packages }}\"\r\n",
      "      when:\r\n",
      "        - apk_packages is defined\r\n",
      "        - ansible_pkg_mgr == \"apk\"\r\n",
      "\r\n",
      "    - name: install apt packages\r\n",
      "      apt: name={{ item }} state=latest\r\n",
      "      with_nested: \"{{ apt_packages }}\"\r\n",
      "      when:\r\n",
      "        - apt_packages is defined\r\n",
      "        - ansible_pkg_mgr == \"apt\"\r\n",
      "\r\n",
      "    - name: install yum packages\r\n",
      "      yum: name={{ item }} state=latest\r\n",
      "      with_nested: \"{{ yum_packages }}\"\r\n",
      "      when:\r\n",
      "        - yum_packages is defined\r\n",
      "        - ansible_pkg_mgr == \"yum\"\r\n",
      "\r\n",
      "    - name: install some pip packages\r\n",
      "      pip: name={{ item }} state=latest\r\n",
      "      with_nested: \"{{ pip_packages }}\"\r\n",
      "      when: pip_packages is defined\r\n",
      "\r\n",
      "    - name: install the jupyter\r\n",
      "      pip: name=jupyter version=1.0.0 state=present \r\n",
      "\r\n",
      "# vim:ft=ansible :\r\n"
     ]
    }
   ],
   "source": [
    "!cat setup_jupyter.yml"
   ]
  },
  {
   "cell_type": "markdown",
   "metadata": {},
   "source": [
    "Run the `setup_jupyter.yml` playbook."
   ]
  },
  {
   "cell_type": "code",
   "execution_count": 11,
   "metadata": {
    "collapsed": false
   },
   "outputs": [
    {
     "name": "stdout",
     "output_type": "stream",
     "text": [
      "\n",
      "PLAY [localhost] ***************************************************************\n",
      "\n",
      "TASK [setup] *******************************************************************\n",
      "\u001b[0;32mok: [localhost]\u001b[0m\n",
      "\n",
      "TASK [install some packages] ***************************************************\n",
      "\u001b[0;32mok: [localhost] => (item=[u'bash', u'bash-completion', u'ca-certificates', u'curl', u'git', u'openssl'])\u001b[0m\n",
      "\n",
      "TASK [install apk packages] ****************************************************\n",
      "\u001b[0;32mok: [localhost] => (item=[u'openssh-client', u'vim'])\u001b[0m\n",
      "\n",
      "TASK [install apt packages] ****************************************************\n",
      "\u001b[0;36mskipping: [localhost] => (item=[u'openssh-client', u'vim']) \u001b[0m\n",
      "\n",
      "TASK [install yum packages] ****************************************************\n",
      "\u001b[0;36mskipping: [localhost] => (item=[u'openssh-clients', u'vim-minimal']) \u001b[0m\n",
      "\n",
      "TASK [install some pip packages] ***********************************************\n",
      "\u001b[0;32mok: [localhost] => (item=[u'docker-py', u'docker-compose'])\u001b[0m\n",
      "\n",
      "TASK [install the jupyter] *****************************************************\n",
      "\u001b[0;32mok: [localhost]\u001b[0m\n",
      "\n",
      "PLAY RECAP *********************************************************************\n",
      "\u001b[0;32mlocalhost\u001b[0m                  : \u001b[0;32mok=5   \u001b[0m changed=0    unreachable=0    failed=0   \n",
      "\n"
     ]
    }
   ],
   "source": [
    "!ansible-playbook setup_jupyter.yml"
   ]
  },
  {
   "cell_type": "markdown",
   "metadata": {},
   "source": [
    "Enjoy it !"
   ]
  }
 ],
 "metadata": {
  "kernelspec": {
   "display_name": "Python 2",
   "language": "python",
   "name": "python2"
  },
  "language_info": {
   "codemirror_mode": {
    "name": "ipython",
    "version": 2
   },
   "file_extension": ".py",
   "mimetype": "text/x-python",
   "name": "python",
   "nbconvert_exporter": "python",
   "pygments_lexer": "ipython2",
   "version": "2.7.12"
  }
 },
 "nbformat": 4,
 "nbformat_minor": 1
}
