{
 "cells": [
  {
   "cell_type": "markdown",
   "metadata": {
    "collapsed": true
   },
   "source": [
    "# Run the Ansible on Jupyter\n",
    "\n",
    "- Author: Chu-Siang Lai / chusiang (at) drx.tw\n",
    "- GitHub: [chusiang/ansible-jupyter.dockerfile](https://github.com/chusiang/ansible-jupyter.dockerfile)\n",
    "- Docker Hub: [chusiang/ansible-jupyter](https://hub.docker.com/r/chusiang/ansible-jupyter/)\n",
    "\n",
    "## Operating System\n",
    "\n",
    "Check the runtime user."
   ]
  },
  {
   "cell_type": "code",
   "execution_count": 1,
   "metadata": {
    "collapsed": false
   },
   "outputs": [
    {
     "name": "stdout",
     "output_type": "stream",
     "text": [
      "root\r\n"
     ]
    }
   ],
   "source": [
    "!whoami"
   ]
  },
  {
   "cell_type": "markdown",
   "metadata": {},
   "source": [
    "Show Linux distribution."
   ]
  },
  {
   "cell_type": "code",
   "execution_count": 2,
   "metadata": {
    "collapsed": false
   },
   "outputs": [
    {
     "name": "stdout",
     "output_type": "stream",
     "text": [
      "Welcome to Alpine Linux 3.4\r\n",
      "Kernel \\r on an \\m (\\l)\r\n",
      "\r\n"
     ]
    }
   ],
   "source": [
    "!cat /etc/issue"
   ]
  },
  {
   "cell_type": "markdown",
   "metadata": {},
   "source": [
    "## Ansible\n",
    "\n",
    "### Ad-Hoc command"
   ]
  },
  {
   "cell_type": "markdown",
   "metadata": {},
   "source": [
    "Show the Ansible version."
   ]
  },
  {
   "cell_type": "code",
   "execution_count": 3,
   "metadata": {
    "collapsed": false
   },
   "outputs": [
    {
     "name": "stdout",
     "output_type": "stream",
     "text": [
      "ansible 2.2.0.0\r\n",
      "  config file = \r\n",
      "  configured module search path = Default w/o overrides\r\n"
     ]
    }
   ],
   "source": [
    "!ansible --version"
   ]
  },
  {
   "cell_type": "markdown",
   "metadata": {},
   "source": [
    "ping the localhost."
   ]
  },
  {
   "cell_type": "code",
   "execution_count": 4,
   "metadata": {
    "collapsed": false
   },
   "outputs": [
    {
     "name": "stdout",
     "output_type": "stream",
     "text": [
      "\u001b[1;35m [WARNING]: Host file not found: /etc/ansible/hosts\n",
      "\u001b[0m\n",
      "\u001b[1;35m [WARNING]: provided hosts list is empty, only localhost is available\n",
      "\u001b[0m\n",
      "\u001b[0;32mlocalhost | SUCCESS => {\n",
      "    \"changed\": false, \n",
      "    \"ping\": \"pong\"\n",
      "}\u001b[0m\n"
     ]
    }
   ],
   "source": [
    "!ansible localhost -m ping"
   ]
  },
  {
   "cell_type": "markdown",
   "metadata": {},
   "source": [
    "Get the facts with `setup` module."
   ]
  },
  {
   "cell_type": "code",
   "execution_count": 6,
   "metadata": {
    "collapsed": false,
    "scrolled": false
   },
   "outputs": [
    {
     "name": "stdout",
     "output_type": "stream",
     "text": [
      "\u001b[1;35m [WARNING]: Host file not found: /etc/ansible/hosts\n",
      "\u001b[0m\n",
      "\u001b[1;35m [WARNING]: provided hosts list is empty, only localhost is available\n",
      "\u001b[0m\n",
      "\u001b[0;32mlocalhost | SUCCESS => {\n",
      "    \"ansible_facts\": {\n",
      "        \"ansible_all_ipv4_addresses\": [], \n",
      "        \"ansible_all_ipv6_addresses\": [], \n",
      "        \"ansible_architecture\": \"x86_64\", \n",
      "        \"ansible_bios_date\": \"03/14/2014\", \n",
      "        \"ansible_bios_version\": \"1.00\", \n",
      "        \"ansible_cmdline\": {\n",
      "            \"com.docker.database\": \"com.docker.driver.amd64-linux\", \n",
      "            \"com.docker.driver\": \"com.docker.driver.amd64-linux,\", \n",
      "            \"console\": \"ttyS0\", \n",
      "            \"earlyprintk\": \"serial\", \n",
      "            \"mobyplatform\": \"mac\", \n",
      "            \"ntp\": \"gateway\"\n",
      "        }, \n",
      "        \"ansible_date_time\": {\n",
      "            \"date\": \"2016-11-19\", \n",
      "            \"day\": \"19\", \n",
      "            \"epoch\": \"1479583375\", \n",
      "            \"hour\": \"19\", \n",
      "            \"iso8601\": \"2016-11-19T19:22:55Z\", \n",
      "            \"iso8601_basic\": \"20161119T192255141309\", \n",
      "            \"iso8601_basic_short\": \"20161119T192255\", \n",
      "            \"iso8601_micro\": \"2016-11-19T19:22:55.141385Z\", \n",
      "            \"minute\": \"22\", \n",
      "            \"month\": \"11\", \n",
      "            \"second\": \"55\", \n",
      "            \"time\": \"19:22:55\", \n",
      "            \"tz\": \"UTC\", \n",
      "            \"tz_offset\": \"+0000\", \n",
      "            \"weekday\": \"Saturday\", \n",
      "            \"weekday_number\": \"6\", \n",
      "            \"weeknumber\": \"46\", \n",
      "            \"year\": \"2016\"\n",
      "        }, \n",
      "        \"ansible_default_ipv4\": {\n",
      "            \"address\": \"172.17.0.3\", \n",
      "            \"gateway\": \"172.17.0.1\", \n",
      "            \"interface\": \"eth0\"\n",
      "        }, \n",
      "        \"ansible_default_ipv6\": {}, \n",
      "        \"ansible_devices\": {\n",
      "            \"vda\": {\n",
      "                \"holders\": [], \n",
      "                \"host\": \"\", \n",
      "                \"model\": null, \n",
      "                \"partitions\": {\n",
      "                    \"vda1\": {\n",
      "                        \"holders\": [], \n",
      "                        \"sectors\": \"8194048\", \n",
      "                        \"sectorsize\": 512, \n",
      "                        \"size\": \"3.91 GB\", \n",
      "                        \"start\": \"2048\", \n",
      "                        \"uuid\": null\n",
      "                    }, \n",
      "                    \"vda2\": {\n",
      "                        \"holders\": [], \n",
      "                        \"sectors\": \"126021632\", \n",
      "                        \"sectorsize\": 512, \n",
      "                        \"size\": \"60.09 GB\", \n",
      "                        \"start\": \"8196096\", \n",
      "                        \"uuid\": null\n",
      "                    }\n",
      "                }, \n",
      "                \"removable\": \"0\", \n",
      "                \"rotational\": \"1\", \n",
      "                \"sas_address\": null, \n",
      "                \"sas_device_handle\": null, \n",
      "                \"scheduler_mode\": \"\", \n",
      "                \"sectors\": \"134217728\", \n",
      "                \"sectorsize\": \"512\", \n",
      "                \"size\": \"64.00 GB\", \n",
      "                \"support_discard\": \"0\", \n",
      "                \"vendor\": \"0x1af4\"\n",
      "            }\n",
      "        }, \n",
      "        \"ansible_distribution\": \"Alpine\", \n",
      "        \"ansible_distribution_major_version\": \"NA\", \n",
      "        \"ansible_distribution_release\": \"NA\", \n",
      "        \"ansible_distribution_version\": \"3.4.4\", \n",
      "        \"ansible_dns\": {\n",
      "            \"domain\": \"local\", \n",
      "            \"nameservers\": [\n",
      "                \"192.168.65.1\", \n",
      "                \"192.168.65.10\", \n",
      "                \"192.168.65.9\", \n",
      "                \"192.168.65.8\", \n",
      "                \"192.168.65.7\", \n",
      "                \"192.168.65.6\", \n",
      "                \"192.168.65.5\", \n",
      "                \"192.168.65.4\", \n",
      "                \"192.168.65.3\"\n",
      "            ]\n",
      "        }, \n",
      "        \"ansible_domain\": \"\", \n",
      "        \"ansible_env\": {\n",
      "            \"CLICOLOR\": \"1\", \n",
      "            \"GIT_PAGER\": \"cat\", \n",
      "            \"HOME\": \"/root\", \n",
      "            \"HOSTNAME\": \"a60ab1208d6d\", \n",
      "            \"JPY_PARENT_PID\": \"5\", \n",
      "            \"MPLBACKEND\": \"module://ipykernel.pylab.backend_inline\", \n",
      "            \"PAGER\": \"cat\", \n",
      "            \"PATH\": \"/usr/local/sbin:/usr/local/bin:/usr/sbin:/usr/bin:/sbin:/bin\", \n",
      "            \"PWD\": \"/home\", \n",
      "            \"PYTHONPATH\": \"/tmp/ansible_N30NgF/ansible_modlib.zip\", \n",
      "            \"SHLVL\": \"4\", \n",
      "            \"TERM\": \"xterm-color\", \n",
      "            \"no_proxy\": \"*.local, 169.254/16\"\n",
      "        }, \n",
      "        \"ansible_eth0\": {\n",
      "            \"active\": true, \n",
      "            \"device\": \"eth0\", \n",
      "            \"features\": {}, \n",
      "            \"macaddress\": \"02:42:ac:11:00:03\", \n",
      "            \"mtu\": 1500, \n",
      "            \"promisc\": false, \n",
      "            \"speed\": 10000, \n",
      "            \"type\": \"ether\"\n",
      "        }, \n",
      "        \"ansible_fips\": false, \n",
      "        \"ansible_form_factor\": \"Unknown\", \n",
      "        \"ansible_fqdn\": \"a60ab1208d6d\", \n",
      "        \"ansible_gather_subset\": [\n",
      "            \"hardware\", \n",
      "            \"network\", \n",
      "            \"virtual\"\n",
      "        ], \n",
      "        \"ansible_gre0\": {\n",
      "            \"active\": false, \n",
      "            \"device\": \"gre0\", \n",
      "            \"features\": {}, \n",
      "            \"macaddress\": \"00:00:00:00\", \n",
      "            \"mtu\": 1476, \n",
      "            \"promisc\": false\n",
      "        }, \n",
      "        \"ansible_gretap0\": {\n",
      "            \"active\": false, \n",
      "            \"device\": \"gretap0\", \n",
      "            \"features\": {}, \n",
      "            \"mtu\": 1462, \n",
      "            \"promisc\": false, \n",
      "            \"type\": \"ether\"\n",
      "        }, \n",
      "        \"ansible_hostname\": \"a60ab1208d6d\", \n",
      "        \"ansible_interfaces\": [\n",
      "            \"gre0\", \n",
      "            \"ip6tnl0\", \n",
      "            \"lo\", \n",
      "            \"tunl0\", \n",
      "            \"ip6_vti0\", \n",
      "            \"gretap0\", \n",
      "            \"sit0\", \n",
      "            \"ip6gre0\", \n",
      "            \"ip_vti0\", \n",
      "            \"eth0\"\n",
      "        ], \n",
      "        \"ansible_ip6_vti0\": {\n",
      "            \"active\": false, \n",
      "            \"device\": \"ip6_vti0\", \n",
      "            \"features\": {}, \n",
      "            \"macaddress\": \"00:00:00:00:00:00:00:00:00:00:00:00:00:00:00:00\", \n",
      "            \"mtu\": 1500, \n",
      "            \"promisc\": false\n",
      "        }, \n",
      "        \"ansible_ip6gre0\": {\n",
      "            \"active\": false, \n",
      "            \"device\": \"ip6gre0\", \n",
      "            \"features\": {}, \n",
      "            \"macaddress\": \"00:00:00:00:00:00:00:00:00:00:00:00:00:00:00:00\", \n",
      "            \"mtu\": 1448, \n",
      "            \"promisc\": false\n",
      "        }, \n",
      "        \"ansible_ip6tnl0\": {\n",
      "            \"active\": false, \n",
      "            \"device\": \"ip6tnl0\", \n",
      "            \"features\": {}, \n",
      "            \"macaddress\": \"00:00:00:00:00:00:00:00:00:00:00:00:00:00:00:00\", \n",
      "            \"mtu\": 1452, \n",
      "            \"promisc\": false\n",
      "        }, \n",
      "        \"ansible_ip_vti0\": {\n",
      "            \"active\": false, \n",
      "            \"device\": \"ip_vti0\", \n",
      "            \"features\": {}, \n",
      "            \"macaddress\": \"00:00:00:00\", \n",
      "            \"mtu\": 1428, \n",
      "            \"promisc\": false\n",
      "        }, \n",
      "        \"ansible_kernel\": \"4.4.27-moby\", \n",
      "        \"ansible_lo\": {\n",
      "            \"active\": true, \n",
      "            \"device\": \"lo\", \n",
      "            \"features\": {}, \n",
      "            \"mtu\": 65536, \n",
      "            \"promisc\": false, \n",
      "            \"type\": \"loopback\"\n",
      "        }, \n",
      "        \"ansible_machine\": \"x86_64\", \n",
      "        \"ansible_memfree_mb\": 234, \n",
      "        \"ansible_memory_mb\": {\n",
      "            \"nocache\": {\n",
      "                \"free\": 1510, \n",
      "                \"used\": 487\n",
      "            }, \n",
      "            \"real\": {\n",
      "                \"free\": 234, \n",
      "                \"total\": 1997, \n",
      "                \"used\": 1763\n",
      "            }, \n",
      "            \"swap\": {\n",
      "                \"cached\": 1, \n",
      "                \"free\": 3902, \n",
      "                \"total\": 4000, \n",
      "                \"used\": 98\n",
      "            }\n",
      "        }, \n",
      "        \"ansible_memtotal_mb\": 1997, \n",
      "        \"ansible_mounts\": [\n",
      "            {\n",
      "                \"device\": \"/dev/vda2\", \n",
      "                \"fstype\": \"ext4\", \n",
      "                \"mount\": \"/etc/resolv.conf\", \n",
      "                \"options\": \"rw,relatime,data=ordered\", \n",
      "                \"size_available\": 42884620288, \n",
      "                \"size_total\": 63375708160, \n",
      "                \"uuid\": \"N/A\"\n",
      "            }, \n",
      "            {\n",
      "                \"device\": \"/dev/vda2\", \n",
      "                \"fstype\": \"ext4\", \n",
      "                \"mount\": \"/etc/hostname\", \n",
      "                \"options\": \"rw,relatime,data=ordered\", \n",
      "                \"size_available\": 42884620288, \n",
      "                \"size_total\": 63375708160, \n",
      "                \"uuid\": \"N/A\"\n",
      "            }, \n",
      "            {\n",
      "                \"device\": \"/dev/vda2\", \n",
      "                \"fstype\": \"ext4\", \n",
      "                \"mount\": \"/etc/hosts\", \n",
      "                \"options\": \"rw,relatime,data=ordered\", \n",
      "                \"size_available\": 42884620288, \n",
      "                \"size_total\": 63375708160, \n",
      "                \"uuid\": \"N/A\"\n",
      "            }\n",
      "        ], \n",
      "        \"ansible_nodename\": \"a60ab1208d6d\", \n",
      "        \"ansible_os_family\": \"Alpine\", \n",
      "        \"ansible_pkg_mgr\": \"apk\", \n",
      "        \"ansible_processor\": [\n",
      "            \"GenuineIntel\", \n",
      "            \"Intel(R) Core(TM) i5-4258U CPU @ 2.40GHz\", \n",
      "            \"GenuineIntel\", \n",
      "            \"Intel(R) Core(TM) i5-4258U CPU @ 2.40GHz\"\n",
      "        ], \n",
      "        \"ansible_processor_cores\": 1, \n",
      "        \"ansible_processor_count\": 2, \n",
      "        \"ansible_processor_threads_per_core\": 1, \n",
      "        \"ansible_processor_vcpus\": 2, \n",
      "        \"ansible_product_name\": \"BHYVE\", \n",
      "        \"ansible_product_serial\": \"None\", \n",
      "        \"ansible_product_uuid\": \"5F1677D1-ED92-8C34-954E-1B3835D74968\", \n",
      "        \"ansible_product_version\": \"1.0\", \n",
      "        \"ansible_python\": {\n",
      "            \"executable\": \"/usr/bin/python\", \n",
      "            \"has_sslcontext\": true, \n",
      "            \"type\": \"CPython\", \n",
      "            \"version\": {\n",
      "                \"major\": 2, \n",
      "                \"micro\": 12, \n",
      "                \"minor\": 7, \n",
      "                \"releaselevel\": \"final\", \n",
      "                \"serial\": 0\n",
      "            }, \n",
      "            \"version_info\": [\n",
      "                2, \n",
      "                7, \n",
      "                12, \n",
      "                \"final\", \n",
      "                0\n",
      "            ]\n",
      "        }, \n",
      "        \"ansible_python_version\": \"2.7.12\", \n",
      "        \"ansible_selinux\": false, \n",
      "        \"ansible_service_mgr\": \"docker-entrypoi\", \n",
      "        \"ansible_sit0\": {\n",
      "            \"active\": false, \n",
      "            \"device\": \"sit0\", \n",
      "            \"features\": {}, \n",
      "            \"macaddress\": \"00:00:00:00\", \n",
      "            \"mtu\": 1480, \n",
      "            \"promisc\": false\n",
      "        }, \n",
      "        \"ansible_swapfree_mb\": 3902, \n",
      "        \"ansible_swaptotal_mb\": 4000, \n",
      "        \"ansible_system\": \"Linux\", \n",
      "        \"ansible_system_vendor\": \"NA\", \n",
      "        \"ansible_tunl0\": {\n",
      "            \"active\": false, \n",
      "            \"device\": \"tunl0\", \n",
      "            \"features\": {}, \n",
      "            \"macaddress\": \"00:00:00:00\", \n",
      "            \"mtu\": 1480, \n",
      "            \"promisc\": false\n",
      "        }, \n",
      "        \"ansible_uptime_seconds\": 240556, \n",
      "        \"ansible_user_dir\": \"/root\", \n",
      "        \"ansible_user_gecos\": \"root\", \n",
      "        \"ansible_user_gid\": 0, \n",
      "        \"ansible_user_id\": \"root\", \n",
      "        \"ansible_user_shell\": \"/bin/ash\", \n",
      "        \"ansible_user_uid\": 0, \n",
      "        \"ansible_userspace_architecture\": \"x86_64\", \n",
      "        \"ansible_userspace_bits\": \"64\", \n",
      "        \"ansible_virtualization_role\": \"guest\", \n",
      "        \"ansible_virtualization_type\": \"docker\", \n",
      "        \"module_setup\": true\n",
      "    }, \n",
      "    \"changed\": false\n",
      "}\u001b[0m\n"
     ]
    }
   ],
   "source": [
    "!ansible localhost -m setup"
   ]
  },
  {
   "cell_type": "markdown",
   "metadata": {},
   "source": [
    "Remove apk package of vim."
   ]
  },
  {
   "cell_type": "code",
   "execution_count": 18,
   "metadata": {
    "collapsed": false
   },
   "outputs": [
    {
     "name": "stdout",
     "output_type": "stream",
     "text": [
      "\u001b[1;35m [WARNING]: Host file not found: /etc/ansible/hosts\n",
      "\u001b[0m\n",
      "\u001b[1;35m [WARNING]: provided hosts list is empty, only localhost is available\n",
      "\u001b[0m\n",
      "\u001b[0;33mlocalhost | SUCCESS => {\n",
      "    \"changed\": true, \n",
      "    \"msg\": \"removed vim package(s)\"\n",
      "}\u001b[0m\n"
     ]
    }
   ],
   "source": [
    "!ansible localhost -m apk -a 'name=vim state=absent'"
   ]
  },
  {
   "cell_type": "markdown",
   "metadata": {},
   "source": [
    "Install apk package of vim."
   ]
  },
  {
   "cell_type": "code",
   "execution_count": 19,
   "metadata": {
    "collapsed": false
   },
   "outputs": [
    {
     "name": "stdout",
     "output_type": "stream",
     "text": [
      "\u001b[1;35m [WARNING]: Host file not found: /etc/ansible/hosts\n",
      "\u001b[0m\n",
      "\u001b[1;35m [WARNING]: provided hosts list is empty, only localhost is available\n",
      "\u001b[0m\n",
      "\u001b[0;33mlocalhost | SUCCESS => {\n",
      "    \"changed\": true, \n",
      "    \"msg\": \"installed vim package(s)\"\n",
      "}\u001b[0m\n"
     ]
    }
   ],
   "source": [
    "!ansible localhost -m apk -a 'name=vim state=present'"
   ]
  },
  {
   "cell_type": "code",
   "execution_count": 12,
   "metadata": {
    "collapsed": false
   },
   "outputs": [
    {
     "name": "stdout",
     "output_type": "stream",
     "text": [
      ".\r\n",
      "└── ansible_on_jupyter.ipynb\r\n",
      "\r\n",
      "0 directories, 1 file\r\n"
     ]
    }
   ],
   "source": [
    "!tree ."
   ]
  },
  {
   "cell_type": "markdown",
   "metadata": {},
   "source": [
    "Enjoy it !"
   ]
  }
 ],
 "metadata": {
  "kernelspec": {
   "display_name": "Python 2",
   "language": "python",
   "name": "python2"
  },
  "language_info": {
   "codemirror_mode": {
    "name": "ipython",
    "version": 2
   },
   "file_extension": ".py",
   "mimetype": "text/x-python",
   "name": "python",
   "nbconvert_exporter": "python",
   "pygments_lexer": "ipython2",
   "version": "2.7.12"
  }
 },
 "nbformat": 4,
 "nbformat_minor": 1
}
